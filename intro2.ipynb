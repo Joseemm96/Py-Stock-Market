{
 "cells": [
  {
   "cell_type": "code",
   "execution_count": 1,
   "metadata": {},
   "outputs": [],
   "source": [
    "# Provides ways to work with large multidimensional arrays\n",
    "import numpy as np \n",
    "# Allows for further data manipulation and analysis\n",
    "import pandas as pd\n",
    "from pandas_datareader import data as web # Reads stock data \n",
    "import matplotlib.pyplot as plt # Plotting\n",
    "import matplotlib.dates as mdates # Styling dates\n",
    "%matplotlib inline\n",
    "\n",
    "import datetime as dt # For defining dates\n",
    "import mplfinance as mpf # Matplotlib finance"
   ]
  },
  {
   "cell_type": "markdown",
   "metadata": {},
   "source": [
    "# Simple price plot"
   ]
  },
  {
   "cell_type": "code",
   "execution_count": 4,
   "metadata": {},
   "outputs": [],
   "source": [
    "# Creates a simple price / date plot between dates\n",
    "def price_plot(ticker, syear, smonth, sday, eyear, emonth, eday):\n",
    "    # Create string representations for the dates\n",
    "    start = f\"{syear}-{smonth}-{sday}\"\n",
    "    end = f\"{eyear}-{emonth}-{eday}\"\n",
    "    \n",
    "    try:\n",
    "        # For Windows\n",
    "        # df = pd.read_csv('C:/Users/derek/Documents/Python Finance/Python/' + ticker + '.csv')\n",
    "        # For MacOS\n",
    "        df = pd.read_csv(ticker + \".csv\")\n",
    "    except FileNotFoundError:\n",
    "        print(\"File Doesn't Exist\")\n",
    "    else:\n",
    "        \n",
    "        # Set data.index as DatetimeIndex\n",
    "        df.index = pd.DatetimeIndex(df['Date'])\n",
    "        \n",
    "        # Define to only use data between provided dates\n",
    "        df_sub = df.loc[start:end]\n",
    "        \n",
    "        # Convert to Numpy array\n",
    "        df_np = df_sub.to_numpy()\n",
    "        \n",
    "        # Get adjusted close data from the 5th column\n",
    "        np_adj_close = df_np[:,5]\n",
    "        \n",
    "        # Get date from the 1st\n",
    "        date_arr = df_np[:,1]\n",
    "        \n",
    "        # Defines area taken up by the plot\n",
    "        fig = plt.figure(figsize=(12,8),dpi=100)\n",
    "        axes = fig.add_axes([0,0,1,1])\n",
    "        \n",
    "        # Define the plot line color as navy\n",
    "        axes.plot(date_arr, np_adj_close, color='navy')\n",
    "        \n",
    "        # Set max ticks on the x axis\n",
    "        axes.xaxis.set_major_locator(plt.MaxNLocator(8))\n",
    "        \n",
    "        # Add a grid, color, dashes(5pts 1 pt dashes separated by 2pt space)\n",
    "        axes.grid(True, color='0.6', dashes=(5, 2, 1, 2))\n",
    "        \n",
    "        # Set grid background color\n",
    "        axes.set_facecolor('#FAEBD7')"
   ]
  },
  {
   "cell_type": "markdown",
   "metadata": {},
   "source": [
    "# TESTS"
   ]
  },
  {
   "cell_type": "code",
   "execution_count": 5,
   "metadata": {},
   "outputs": [
    {
     "name": "stdout",
     "output_type": "stream",
     "text": [
      "File Doesn't Exist\n"
     ]
    }
   ],
   "source": [
    "price_plot('AMZN', 2020, 1, 1, 2022, 1, 1)"
   ]
  },
  {
   "cell_type": "code",
   "execution_count": null,
   "metadata": {},
   "outputs": [],
   "source": []
  }
 ],
 "metadata": {
  "interpreter": {
   "hash": "b3ba2566441a7c06988d0923437866b63cedc61552a5af99d1f4fb67d367b25f"
  },
  "kernelspec": {
   "display_name": "Python 3.8.5 64-bit ('base': conda)",
   "language": "python",
   "name": "python3"
  },
  "language_info": {
   "codemirror_mode": {
    "name": "ipython",
    "version": 3
   },
   "file_extension": ".py",
   "mimetype": "text/x-python",
   "name": "python",
   "nbconvert_exporter": "python",
   "pygments_lexer": "ipython3",
   "version": "3.8.5"
  },
  "orig_nbformat": 4
 },
 "nbformat": 4,
 "nbformat_minor": 2
}
