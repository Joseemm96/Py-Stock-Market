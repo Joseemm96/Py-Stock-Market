{
 "cells": [
  {
   "cell_type": "markdown",
   "metadata": {},
   "source": [
    "# Imports\n"
   ]
  },
  {
   "cell_type": "code",
   "execution_count": null,
   "metadata": {},
   "outputs": [],
   "source": [
    "import numpy as np \n",
    "import pandas as pd \n",
    "from pandas_datareader import data as web\n",
    "import matplotlib.pyplot as plt\n",
    "import matplotlib.dates as mdates\n",
    "%matplotlib inline\n",
    "import datetime as dt \n",
    "import mplfinance as mpf"
   ]
  },
  {
   "cell_type": "markdown",
   "metadata": {},
   "source": [
    "# Function Save data to CVS\n"
   ]
  },
  {
   "cell_type": "code",
   "execution_count": 25,
   "metadata": {},
   "outputs": [],
   "source": [
    "def save_to_csv_from_yahoo(ticker, syear, smonth, sday, eyear, emonth, eday):\n",
    "    start = dt.datetime(syear, smonth, sday)\n",
    "    end = dt.datetime( eyear, emonth, eday)\n",
    "\n",
    "    df = web.DataReader(ticker, 'yahoo', start, end)\n",
    "\n",
    "    df.to_csv(ticker + \".csv\")\n",
    "    return df"
   ]
  },
  {
   "cell_type": "markdown",
   "metadata": {},
   "source": []
  },
  {
   "cell_type": "markdown",
   "metadata": {},
   "source": [
    "# Functions that returns a dataframe from a CSV"
   ]
  },
  {
   "cell_type": "code",
   "execution_count": 30,
   "metadata": {},
   "outputs": [],
   "source": [
    "def get_df_from_csv(ticker):\n",
    "    try:\n",
    "        df = pd.read_csv(ticker + \".csv\")\n",
    "    except FileNotFoundError:\n",
    "        print('File does not exist')\n",
    "    else:\n",
    "        return df"
   ]
  },
  {
   "cell_type": "markdown",
   "metadata": {},
   "source": [
    "# Add daily return to dataframe"
   ]
  },
  {
   "cell_type": "code",
   "execution_count": 31,
   "metadata": {},
   "outputs": [],
   "source": [
    "# Formula END / Beggining - 1\n",
    "\n",
    "def add_daily_return_to_df(df, ticker):\n",
    "    df['daily_return'] = (df['Adj Close'] / df['Adj Close'].shift(1)) - 1\n",
    "    df.to_csv(ticker + \".csv\")\n",
    "    return df"
   ]
  },
  {
   "cell_type": "markdown",
   "metadata": {},
   "source": [
    "# Return total return over time"
   ]
  },
  {
   "cell_type": "code",
   "execution_count": 32,
   "metadata": {},
   "outputs": [],
   "source": [
    "def get_return_defined_time(df, syear, smonth, sday, eyear, emonth, eday):\n",
    "    start = f\"{syear}-{smonth}-{sday}\"\n",
    "    end = f\"{eyear}-{emonth}-{eday}\"\n",
    "    mask = (df['Date'] >= start) & (df['Date'] <= end)\n",
    "    daily_return = df.loc[mask]['daily_return'].mean()\n",
    "    df2 = df.loc[mask]\n",
    "    days = df2.shape[0]\n",
    "    return (days * daily_return)"
   ]
  },
  {
   "cell_type": "markdown",
   "metadata": {},
   "source": [
    "# Functions TESTS"
   ]
  },
  {
   "cell_type": "code",
   "execution_count": 35,
   "metadata": {},
   "outputs": [
    {
     "name": "stdout",
     "output_type": "stream",
     "text": [
      "Total return:  0.04777517423943911\n"
     ]
    }
   ],
   "source": [
    "# APPLE\n",
    "save_to_csv_from_yahoo('AAPL', 2020, 1, 1, 2021, 1, 1)\n",
    "#save_to_csv_from_yahoo('BTC-USD', 2019, 1, 1, 2021, 1, 1)\n",
    "save_to_csv_from_yahoo('AMZN', 2020, 1, 1, 2021, 1, 1)\n",
    "\n",
    "AAPL = get_df_from_csv('AAPL')\n",
    "#BTC = get_df_from_csv('BTC-USD')\n",
    "AMZN = get_df_from_csv('AMZN')\n",
    "add_daily_return_to_df(AAPL, 'AAPL')\n",
    "add_daily_return_to_df(AMZN, 'AMZN')\n",
    "AAPL\n",
    "#BTC\n",
    "total_return = get_return_defined_time(AMZN, 2020, 1, 1, 2021, 1, 1)\n",
    "print('Total return: ', total_return)"
   ]
  },
  {
   "cell_type": "code",
   "execution_count": null,
   "metadata": {},
   "outputs": [],
   "source": []
  }
 ],
 "metadata": {
  "interpreter": {
   "hash": "8c2a828d77e281681b9a4f7ec1f86f2cc8ddeb81cf3c96ae7798a95b2e4e811f"
  },
  "kernelspec": {
   "display_name": "Python 3.9.9 64-bit (windows store)",
   "language": "python",
   "name": "python3"
  },
  "language_info": {
   "codemirror_mode": {
    "name": "ipython",
    "version": 3
   },
   "file_extension": ".py",
   "mimetype": "text/x-python",
   "name": "python",
   "nbconvert_exporter": "python",
   "pygments_lexer": "ipython3",
   "version": "3.8.5"
  },
  "orig_nbformat": 4
 },
 "nbformat": 4,
 "nbformat_minor": 2
}
